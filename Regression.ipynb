{
 "cells": [
  {
   "cell_type": "markdown",
   "id": "3b076c12",
   "metadata": {},
   "source": [
    "# RMS PROJECT "
   ]
  },
  {
   "cell_type": "markdown",
   "id": "8bad59d0",
   "metadata": {},
   "source": [
    "**DEEPAK BOGATI 6066481**"
   ]
  },
  {
   "cell_type": "markdown",
   "id": "e663d243",
   "metadata": {},
   "source": [
    "# 1. INTRODUCTION\n",
    "\n",
    "Nepal is a landlocked country in Southern Asia surrounded by two of the fastest growing countries of the world. China in the North and India in the other three directions. Foreign trade plays a major role in economic development of any country. Land locked Nepal has no direct asceses to the sea. Indian port of Calcutta is the nearest port at 710 km from the nearest border of Nepal. Even construction of Kodari road only gave the effective asceses to Tibetan market and connection to nearest port via Chinese land was still an enormous distance to be traveled.  This made Indian city of Calcutta only visible port of economic asceses to the rest of the world. 1950s Indo-Nepal Trade Treaty gave Nepal a full and unrestricted right to commercial transit of all the goods and manufacturers through the territory and ports of India.\n",
    "\n",
    "India’s Exports to Nepal was 5.85 Billion dollors during 2019-2020, says United Nations COMTRADE database on international trade. That is  60 % of total import Nepal made in that year. On the other hand, World Bank estimates $9.2 billion worth of export potential in Nepal. Out of which Nepal only managed to export less then 10%. around 60% of total export is made to India. Therefore, I believe the tendency of overall economy of these two nations is directly dependent to each other’s GDP. Apart from these two variables I consider educational attainment to be a prominent factor that influence the GDP.\n",
    "\n",
    "Robert J. Barro mentioned education, health, and aspects of social capital to be the major determinant of economic growth in his famous publication “Education as a Determinant of Economic Growth”\n",
    "Therefore, multiple regression analysis is performed with the above-mentioned variables. Main focus was on Nepali GDP as a function of educational attainment and the way it fluctuates over time."
   ]
  },
  {
   "cell_type": "markdown",
   "id": "8daa89ac",
   "metadata": {},
   "source": [
    "# 1.1 GDP of Nepal\n",
    "The objective of this paper is to explore variables influencing GDP of Nepal with a linear regression equation, using the Ordinary Least Squares (OLS) estimator. Understanding the relation between GDP(Nepal), GDP(India), Education index(Nepal) and level of their dependencies."
   ]
  },
  {
   "cell_type": "markdown",
   "id": "dd0b62f1",
   "metadata": {},
   "source": [
    "# 2. DATA\n",
    "\n",
    "Source of Data was the official web service provided and maintained by international monetary fund itself.  It was a simple excel data which was further cleaned and verified form other sources like World Bank, UN COMTRADE.  To get the best possible analysis, data form past 32 years, (1990 to 2021) are used.\n",
    "\n",
    "Dependent Variable: (Y) GDP of Nepal.\n",
    "\n",
    "Explanatory variables: (X1) Educational attainment in Nepal & (X2) GDP of India.\n",
    "\n",
    "**Units:**\n",
    "\n",
    "Dependent variable: GDP per capita of Nepal (PCNP) is gross domestic product divided by midyear population. Measured in USD/person/year\n",
    "\n",
    "Explanatory variables: Gross domestic product of india, abbreviated as (GDPI), is a basic measure of the overall size of a country's economy. Measured in Millions USD/year for this project. Education index for Nepal (EDUI) is measured by combining average adult years of schooling with expected years of schooling for students under the age of 25, For this project it has be converted to the multiple of 1000 for better plot of the data and understanding of relative data plot.\n"
   ]
  },
  {
   "cell_type": "code",
   "execution_count": 1,
   "id": "33e6ca4a",
   "metadata": {},
   "outputs": [],
   "source": [
    "#importing necessary libraries\n",
    "import numpy as np\n",
    "import pandas as pd\n",
    "import seaborn as sns\n",
    "from scipy import stats\n",
    "import matplotlib.pyplot as plt\n",
    "\n",
    "import statsmodels.api as sm\n",
    "from statsmodels.stats import diagnostic as diag\n",
    "from statsmodels.stats.outliers_influence import variance_inflation_factor\n",
    "\n",
    "from sklearn.linear_model import LinearRegression\n",
    "from sklearn.model_selection import train_test_split\n",
    "from sklearn.metrics import mean_squared_error, r2_score, mean_absolute_error\n",
    "\n",
    "%matplotlib inline"
   ]
  },
  {
   "cell_type": "markdown",
   "id": "a9e39547",
   "metadata": {},
   "source": [
    "# 3. The Regression Equation and Expectations:\n",
    "**The regression equation reads like this:**\n",
    "\n",
    "                       𝑌=𝛽0+𝛽1𝑋1+𝛽2𝑋2+𝜀\n",
    "\n",
    "Dependent Variable(Y) is the GDP percapita of Nepal.\n",
    "Explanatory variables\n",
    "(X1) is the Educational attainment in Nepal & \n",
    "(X2) is the GDP of India.      \n",
    "\n",
    "\n",
    "𝛽0, 𝛽1, 𝛽2 are the coefficients.\n",
    "\n",
    "**Hypothesis:**    Indian and Nepalese GDPs are directly proportional to each other. Increase in GDP of Nepal is influenced by the rise of Indian GDP and vice versa. Also, Educational attainment in Nepal is positively influenced by the GDP. “Education is the major determinant of Economic growth” - Robert J. Barro. Therefore, I expect the coefficient on Educational attainment in Nepal (𝛽1) and  and the coefficient on GDP of India (𝛽2) to have a positive sign. i.e that both of these variables have a positive impact on the dependent variable.\n",
    "\n",
    "**Null-Hypothesis:**   There is no correlation between Nepalese GDP, Indian GDP and Education index of Nepal mentioned above. \n",
    "\n",
    "\n"
   ]
  },
  {
   "cell_type": "markdown",
   "id": "5f50a443",
   "metadata": {},
   "source": [
    "# 4. Reading dataset"
   ]
  },
  {
   "cell_type": "code",
   "execution_count": 4,
   "id": "89568a4d",
   "metadata": {},
   "outputs": [
    {
     "data": {
      "text/html": [
       "<div>\n",
       "<style scoped>\n",
       "    .dataframe tbody tr th:only-of-type {\n",
       "        vertical-align: middle;\n",
       "    }\n",
       "\n",
       "    .dataframe tbody tr th {\n",
       "        vertical-align: top;\n",
       "    }\n",
       "\n",
       "    .dataframe thead th {\n",
       "        text-align: right;\n",
       "    }\n",
       "</style>\n",
       "<table border=\"1\" class=\"dataframe\">\n",
       "  <thead>\n",
       "    <tr style=\"text-align: right;\">\n",
       "      <th></th>\n",
       "      <th>Year</th>\n",
       "      <th>PCNP</th>\n",
       "      <th>EDUI</th>\n",
       "      <th>GDPI</th>\n",
       "    </tr>\n",
       "  </thead>\n",
       "  <tbody>\n",
       "    <tr>\n",
       "      <th>0</th>\n",
       "      <td>1990</td>\n",
       "      <td>235.34</td>\n",
       "      <td>0.276</td>\n",
       "      <td>326.34</td>\n",
       "    </tr>\n",
       "    <tr>\n",
       "      <th>1</th>\n",
       "      <td>1991</td>\n",
       "      <td>251.44</td>\n",
       "      <td>0.283</td>\n",
       "      <td>274.23</td>\n",
       "    </tr>\n",
       "    <tr>\n",
       "      <th>2</th>\n",
       "      <td>1992</td>\n",
       "      <td>222.54</td>\n",
       "      <td>0.291</td>\n",
       "      <td>293.23</td>\n",
       "    </tr>\n",
       "    <tr>\n",
       "      <th>3</th>\n",
       "      <td>1993</td>\n",
       "      <td>232.12</td>\n",
       "      <td>0.293</td>\n",
       "      <td>284.19</td>\n",
       "    </tr>\n",
       "    <tr>\n",
       "      <th>4</th>\n",
       "      <td>1994</td>\n",
       "      <td>235.22</td>\n",
       "      <td>0.295</td>\n",
       "      <td>333.01</td>\n",
       "    </tr>\n",
       "  </tbody>\n",
       "</table>\n",
       "</div>"
      ],
      "text/plain": [
       "   Year     PCNP   EDUI    GDPI\n",
       "0   1990  235.34  0.276  326.34\n",
       "1   1991  251.44  0.283  274.23\n",
       "2   1992  222.54  0.291  293.23\n",
       "3   1993  232.12  0.293  284.19\n",
       "4   1994  235.22  0.295  333.01"
      ]
     },
     "execution_count": 4,
     "metadata": {},
     "output_type": "execute_result"
    }
   ],
   "source": [
    "df = pd.read_excel('Dataframe.xlsx')\n",
    "\n",
    "column_name = {'Percapita NP' : 'PCNP', 'EDU Index' : 'EDUI', 'GDP IN' : 'GDPI'}# changing the column details\n",
    "df = df.rename(columns = column_name)\n",
    "df.head()"
   ]
  },
  {
   "cell_type": "markdown",
   "id": "ec1ac154",
   "metadata": {},
   "source": [
    "# 5. Scatter plot of the data\n",
    "# 5.1 Y vs X1\n"
   ]
  },
  {
   "cell_type": "code",
   "execution_count": 6,
   "id": "2494be0f",
   "metadata": {},
   "outputs": [],
   "source": [
    "plt.style.use('seaborn')"
   ]
  },
  {
   "cell_type": "code",
   "execution_count": 7,
   "id": "03c0780e",
   "metadata": {},
   "outputs": [
    {
     "data": {
      "image/png": "[encoded data removed]",
      "text/plain": [
       "<Figure size 720x360 with 1 Axes>"
      ]
     },
     "metadata": {},
     "output_type": "display_data"
    }
   ],
   "source": [
    "df.plot(y = 'PCNP', x = 'EDUI', kind = 'scatter', c = 'r', figsize =(10,5))\n",
    "plt.show()"
   ]
  },
  {
   "cell_type": "code",
   "execution_count": 8,
   "id": "8e05708f",
   "metadata": {},
   "outputs": [],
   "source": [
    "#import statsmodels.formula.api as smf \n",
    "#regres='PCNP~EDUI'\n",
    "#reg1=smf.ols(regres,df).fit()\n",
    "#print(reg1.summary())"
   ]
  },
  {
   "cell_type": "markdown",
   "id": "8f948dca",
   "metadata": {},
   "source": [
    "**Scatter diagram of the data Y against X1. That is percapita GDP of Nepal with Education index of nepal.** \n",
    "\n",
    "The plot shows a fairly strong positive relationship between percapita income of nepal with that of education index.It also verifies that, plot shows the high level of acceptance as described in the assumption/hypothesis.It shows a steady positive relation.\n",
    "\n",
    "Hence We can write our model as: \n",
    "\n",
    "**Percapita income of Nepal =  β₀ + β₁EDU Index + e**\n",
    "\n",
    "Where,\n",
    "\n",
    "**β₀ is intercept of the linear trend line on the y-axis**\n",
    "\n",
    "**β₁ is the slope of the linear trend line.**\n",
    "\n",
    "**e  error term.**\n"
   ]
  },
  {
   "cell_type": "markdown",
   "id": "2ab28726",
   "metadata": {},
   "source": [
    "# 5.2 Y vs X2"
   ]
  },
  {
   "cell_type": "code",
   "execution_count": 8,
   "id": "d7107c3c",
   "metadata": {},
   "outputs": [
    {
     "data": {
      "image/png": "[encoded data removed]",
      "text/plain": [
       "<Figure size 720x360 with 1 Axes>"
      ]
     },
     "metadata": {},
     "output_type": "display_data"
    }
   ],
   "source": [
    "df.plot(y='PCNP', x='GDPI', kind='scatter', c = 'r', figsize =(10,5))\n",
    "plt.show()"
   ]
  },
  {
   "cell_type": "code",
   "execution_count": 13,
   "id": "ccb2aebf",
   "metadata": {},
   "outputs": [],
   "source": [
    "#import statsmodels.formula.api as smf \n",
    "#regres='PCNP~GDPI'\n",
    "#reg2=smf.ols(regres,df).fit()\n",
    "#print(reg2.summary())"
   ]
  },
  {
   "cell_type": "markdown",
   "id": "8ee621f4",
   "metadata": {},
   "source": [
    "\n",
    "From 1990 to 2021"
   ]
  },
  {
   "cell_type": "markdown",
   "id": "2959287c",
   "metadata": {},
   "source": [
    "**Scatter diagram of the data Y against X2. That is percapita of Nepal with GDP of India** \n",
    "\n",
    "The plot shows a fairly strong positive relationship between percapita income of nepal with that of education index.Plot is almost a stright line. This proves the high degree of depencency of the indian economy with that of nepal.\n",
    "\n",
    "Hence We can write our model as: \n",
    "\n",
    "**Percapita NP = β₀ + β₁GDP IN + e** \n",
    "\n",
    "Where, \n",
    "\n",
    "**β₀ is intercept of the linear trend line on the y-axis** \n",
    "\n",
    "**β₁ is the slope of the linear trend line.** \n",
    "\n",
    "**e error term.**"
   ]
  },
  {
   "cell_type": "markdown",
   "id": "0bffed27",
   "metadata": {},
   "source": [
    "# 5.3 X1 vs X2"
   ]
  },
  {
   "cell_type": "code",
   "execution_count": 10,
   "id": "b42289fa",
   "metadata": {
    "scrolled": true
   },
   "outputs": [
    {
     "data": {
      "image/png": "[encoded data removed]",
      "text/plain": [
       "<Figure size 720x360 with 1 Axes>"
      ]
     },
     "metadata": {},
     "output_type": "display_data"
    }
   ],
   "source": [
    "df.plot(y='EDUI', x='GDPI', kind='scatter', c='r', figsize =(10,5))\n",
    "plt.show()"
   ]
  },
  {
   "cell_type": "code",
   "execution_count": 15,
   "id": "b18431a6",
   "metadata": {},
   "outputs": [],
   "source": [
    "#import statsmodels.formula.api as smf \n",
    "#regres='EDUI~GDPI'\n",
    "#reg3=smf.ols(regres,df).fit()\n",
    "#print(reg3.summary())"
   ]
  },
  {
   "cell_type": "markdown",
   "id": "6962d119",
   "metadata": {},
   "source": [
    "**Plot shows the similar relation to as shown by in the first plot.**\n",
    "\n",
    "Plot is almost a stright line. this provides the high degree of depencency of Education index with that of Indian GDP.   \n",
    "\n",
    "Hence We can write our model as: \n",
    "\n",
    "**EDU Index = β₀ + β₁GDP NP + e** \n",
    "\n",
    "Where, \n",
    "\n",
    "**β₀ is intercept of the linear trend line on the y-axis** \n",
    "\n",
    "**β₁ is the slope of the linear trend line.**\n",
    "\n",
    "**e error term.**\n"
   ]
  },
  {
   "cell_type": "markdown",
   "id": "72263396",
   "metadata": {},
   "source": [
    "# 5.4  Possible Collinearity of the Regressors?"
   ]
  },
  {
   "cell_type": "code",
   "execution_count": 28,
   "id": "6e67c236",
   "metadata": {},
   "outputs": [
    {
     "data": {
      "text/plain": [
       "0.9729694990713432"
      ]
     },
     "execution_count": 28,
     "metadata": {},
     "output_type": "execute_result"
    }
   ],
   "source": [
    "df.PCNP.corr(df.EDUI)"
   ]
  },
  {
   "cell_type": "code",
   "execution_count": 31,
   "id": "6600e212",
   "metadata": {},
   "outputs": [
    {
     "data": {
      "text/plain": [
       "0.9927024947565707"
      ]
     },
     "execution_count": 31,
     "metadata": {},
     "output_type": "execute_result"
    }
   ],
   "source": [
    "df.PCNP.corr(df.GDPI)"
   ]
  },
  {
   "cell_type": "code",
   "execution_count": 32,
   "id": "4deec96d",
   "metadata": {},
   "outputs": [
    {
     "data": {
      "text/plain": [
       "0.9824475537042303"
      ]
     },
     "execution_count": 32,
     "metadata": {},
     "output_type": "execute_result"
    }
   ],
   "source": [
    "df.GDPI.corr(df.EDUI)"
   ]
  },
  {
   "cell_type": "markdown",
   "id": "23ad3d8c",
   "metadata": {},
   "source": [
    "For above mentioned relatioins, i.e Y against X1, Y against X2 and X1 against X2 it is seen that they have high degree of collinearity. This can lead to large standard errors which in return causes small t-statistics."
   ]
  },
  {
   "cell_type": "markdown",
   "id": "3a24fe67",
   "metadata": {},
   "source": [
    " # 6. Running the Regression with OLS, Interpreting the Results:\n"
   ]
  },
  {
   "cell_type": "markdown",
   "id": "ffe28185",
   "metadata": {},
   "source": [
    "# 6.1 Regressing Percapita of Nepal(Y) with Edu Index(X1)\n",
    "\n",
    "Y = Percapita of Nepal\n",
    "\n",
    "X1 = Edu index (Nepal)\n",
    "\n",
    "General equation looks like : Y = B0 + B1X1 + e"
   ]
  },
  {
   "cell_type": "code",
   "execution_count": 35,
   "id": "c1877af9",
   "metadata": {},
   "outputs": [
    {
     "name": "stdout",
     "output_type": "stream",
     "text": [
      "                            OLS Regression Results                            \n",
      "==============================================================================\n",
      "Dep. Variable:                   PCNP   R-squared:                       0.947\n",
      "Model:                            OLS   Adj. R-squared:                  0.945\n",
      "Method:                 Least Squares   F-statistic:                     532.5\n",
      "Date:                Thu, 31 Mar 2022   Prob (F-statistic):           1.19e-20\n",
      "Time:                        19:27:04   Log-Likelihood:                -185.18\n",
      "No. Observations:                  32   AIC:                             374.4\n",
      "Df Residuals:                      30   BIC:                             377.3\n",
      "Df Model:                           1                                         \n",
      "Covariance Type:            nonrobust                                         \n",
      "==============================================================================\n",
      "                 coef    std err          t      P>|t|      [0.025      0.975]\n",
      "------------------------------------------------------------------------------\n",
      "Intercept   -913.9840     65.236    -14.010      0.000   -1047.214    -780.754\n",
      "EDUI        3726.5932    161.488     23.077      0.000    3396.791    4056.395\n",
      "==============================================================================\n",
      "Omnibus:                        2.990   Durbin-Watson:                   0.410\n",
      "Prob(Omnibus):                  0.224   Jarque-Bera (JB):                2.588\n",
      "Skew:                           0.604   Prob(JB):                        0.274\n",
      "Kurtosis:                       2.307   Cond. No.                         13.0\n",
      "==============================================================================\n",
      "\n",
      "Notes:\n",
      "[1] Standard Errors assume that the covariance matrix of the errors is correctly specified.\n"
     ]
    }
   ],
   "source": [
    "import statsmodels.formula.api as smf \n",
    "regres='PCNP~EDUI'\n",
    "regout=smf.ols(regres,df).fit()\n",
    "print(regout.summary())"
   ]
  },
  {
   "cell_type": "code",
   "execution_count": 36,
   "id": "04550b7a",
   "metadata": {},
   "outputs": [
    {
     "data": {
      "text/plain": [
       "Intercept    -913.983975\n",
       "EDUI         3726.593211\n",
       "dtype: float64"
      ]
     },
     "execution_count": 36,
     "metadata": {},
     "output_type": "execute_result"
    }
   ],
   "source": [
    "regout.params"
   ]
  },
  {
   "cell_type": "markdown",
   "id": "0e5b3ec3",
   "metadata": {},
   "source": [
    "As expected, the coefficient of the regressor \"Education Index in Nepal\" is positive. It is also statistically significant at the 99% level (with the probability for the t-statistic being -14.010. The F-Statistic shows significance at this level, too. The adjusted R-squared is quite high with 0.947."
   ]
  },
  {
   "cell_type": "markdown",
   "id": "4705dd9d",
   "metadata": {},
   "source": [
    "**Final Equation for first regression**\n",
    "\n",
    "**Y = -913.984 + 3726.593X1 + e**"
   ]
  },
  {
   "cell_type": "markdown",
   "id": "8c1585a5",
   "metadata": {},
   "source": [
    "# 6.2. Regressing Percapita of Nepal(Y) with Edu Index(X1) and GDP of India(X2)"
   ]
  },
  {
   "cell_type": "markdown",
   "id": "3ef54900",
   "metadata": {},
   "source": [
    "**Regressing Percapita of Nepal(Y) with Edu Index(X1) and GDP of India(X2)**\n",
    "\n",
    "y = Percapita of Nepal\n",
    "\n",
    "x1 = Edu index (Nepal)\n",
    "\n",
    "x2 = GDP India \n",
    "\n",
    "**Y = B0 + B1X1 +B2X2 + e**\n"
   ]
  },
  {
   "cell_type": "code",
   "execution_count": 46,
   "id": "dbc0fef7",
   "metadata": {
    "scrolled": true
   },
   "outputs": [
    {
     "name": "stdout",
     "output_type": "stream",
     "text": [
      "                            OLS Regression Results                            \n",
      "==============================================================================\n",
      "Dep. Variable:                   PCNP   R-squared:                       0.986\n",
      "Model:                            OLS   Adj. R-squared:                  0.985\n",
      "Method:                 Least Squares   F-statistic:                     993.2\n",
      "Date:                Fri, 11 Feb 2022   Prob (F-statistic):           1.96e-27\n",
      "Time:                        23:44:19   Log-Likelihood:                -164.22\n",
      "No. Observations:                  32   AIC:                             334.4\n",
      "Df Residuals:                      29   BIC:                             338.8\n",
      "Df Model:                           2                                         \n",
      "Covariance Type:            nonrobust                                         \n",
      "==============================================================================\n",
      "                 coef    std err          t      P>|t|      [0.025      0.975]\n",
      "------------------------------------------------------------------------------\n",
      "Intercept    157.9030    125.803      1.255      0.219     -99.394     415.200\n",
      "EDUI        -254.1144    457.355     -0.556      0.583   -1189.510     681.281\n",
      "GDPI           0.4021      0.045      8.859      0.000       0.309       0.495\n",
      "==============================================================================\n",
      "Omnibus:                        1.720   Durbin-Watson:                   1.302\n",
      "Prob(Omnibus):                  0.423   Jarque-Bera (JB):                0.919\n",
      "Skew:                          -0.401   Prob(JB):                        0.632\n",
      "Kurtosis:                       3.214   Cond. No.                     9.52e+04\n",
      "==============================================================================\n",
      "\n",
      "Notes:\n",
      "[1] Standard Errors assume that the covariance matrix of the errors is correctly specified.\n",
      "[2] The condition number is large, 9.52e+04. This might indicate that there are\n",
      "strong multicollinearity or other numerical problems.\n"
     ]
    }
   ],
   "source": [
    "import statsmodels.formula.api as smf \n",
    "regres='PCNP~EDUI+GDPI'\n",
    "regout2=smf.ols(regres,df).fit()\n",
    "print(regout2.summary())"
   ]
  },
  {
   "cell_type": "code",
   "execution_count": 56,
   "id": "0a3073b6",
   "metadata": {},
   "outputs": [
    {
     "name": "stdout",
     "output_type": "stream",
     "text": [
      "Parameters:  Intercept    157.903030\n",
      "EDUI        -254.114431\n",
      "GDPI           0.402068\n",
      "dtype: float64\n",
      "R2:  0.9856114126656744\n"
     ]
    }
   ],
   "source": [
    "print(\"Parameters: \", \n",
    "      regout2.params)\n",
    "print(\"R2: \", regout2.rsquared)\n"
   ]
  },
  {
   "cell_type": "code",
   "execution_count": 40,
   "id": "22513f00",
   "metadata": {},
   "outputs": [
    {
     "name": "stdout",
     "output_type": "stream",
     "text": [
      "Standard errors:  Intercept     65.236109\n",
      "EDUI         161.487670\n",
      "dtype: float64\n"
     ]
    }
   ],
   "source": [
    "print(\"Standard errors: \", regout.bse)"
   ]
  },
  {
   "cell_type": "markdown",
   "id": "80e49eb0",
   "metadata": {},
   "source": [
    "**Final Equation for Second regression**\n",
    "\n",
    "**Y = 157.903 - 254.113.X1 + 0.402.X2 + e**\n"
   ]
  },
  {
   "cell_type": "code",
   "execution_count": 3,
   "id": "9b316113",
   "metadata": {},
   "outputs": [
    {
     "data": {
      "text/plain": [
       "49.99999999999996"
      ]
     },
     "execution_count": 3,
     "metadata": {},
     "output_type": "execute_result"
    }
   ],
   "source": [
    "1/(1-.98)"
   ]
  },
  {
   "cell_type": "code",
   "execution_count": 4,
   "id": "4c56b356",
   "metadata": {},
   "outputs": [
    {
     "data": {
      "text/plain": [
       "18.86792452830187"
      ]
     },
     "execution_count": 4,
     "metadata": {},
     "output_type": "execute_result"
    }
   ],
   "source": [
    "1/(1-.947)"
   ]
  },
  {
   "cell_type": "markdown",
   "id": "641b3c69",
   "metadata": {},
   "source": [
    "# 7. Summary and Outlook"
   ]
  },
  {
   "cell_type": "markdown",
   "id": "ca36b69d",
   "metadata": {},
   "source": [
    "This project is basically a linear regression analysis on GDP of Nepal as a function of Educational attainment and GDP of bordered country (india). Data was attained from  international monetary fund and varified from other sources. Both the regressor variables i.e Educational index of nepal and GDP of India were expected to have positive impact on GDP of nepal. OLS regression result confirms this anticipation. High degree of correlation is seen beeween independent variables (EDUI and GDPI). it can be seen from the above multiple regression analysis that GDP of nepal is directly porportional with the Educational attainment of Nepal and GDP of india.\n",
    "\n",
    "With these linear regression equations, we can better understand the determinants and its direct as well as indirect influences on GDP. These equation can be helpful in documentation and estimation of projects that are influenced by these factors.Goverment as well as private institutions can analyse these independencies to predict the possible outcome from a planed projects. Example: Estimated Budget on education for the year 2030 can be a resourceful information for the finance department to plan and execute the generation of the fund. \n",
    "\n",
    "**Discussion**\n",
    "\n",
    "**Multiple R** is the value that tells how strong is the relation between two variables. above solution indicates that it gives an unpredictiable but steady relationship.\n",
    "\n",
    "**P-value** is relatively small indicating the insignificant of the regression model.\n",
    "\n",
    "**Coefficient of determination r-squared** tells us how much variance the dependent variable can be accounted for by independent variable.\n",
    "\n",
    "**Adjusted R square** takes into account the number of independent variables in the analysis and corrects for bias.\n",
    "\n",
    "**standard error** is the average distance that the observed value fall from the regression line.\n",
    "\n",
    "**Equations**\n",
    "\n",
    "**Y1 = -913.984 + 3726.593X1 + e**\n",
    "\n",
    "**Y2 = 157.903 - 254.113.X1 + 0.402.X2 + e**\n",
    "\n",
    "Here we can see that the sign of X1 changes to -ve when second regressor is introdeuced. This is because of the Multicollinearity.Two or more predictors are strongly corelated and hence effect of individual cannot be seperated and regresson modle becomes unstable.\n",
    "\n",
    "The coefficient estimates can swing wildly based on which other independent variables are in the model. The coefficients become very sensitive to small changes in the model.\n",
    "Multicollinearity reduces the precision of the estimated coefficients, which weakens the statistical power of your regression model. one might not be able to trust the p-values to identify independent variables that are statistically significant.\n",
    "\n",
    "\n",
    "so we check for (variance inflation factor) **VIF = 1/(1-r^2)**\n",
    "\n",
    "As (VIF > 10) for both the equation, and hence general regression model cannot be trusted. But in this research topic Multicollinearity affects the coefficients and p-values, but it does not influence the predictions, precision of the predictions, and the goodness-of-fit statistics.\n",
    "\n",
    "**Therefore above equations can be well used for the prediction purpose**"
   ]
  },
  {
   "cell_type": "markdown",
   "id": "ae5d0804",
   "metadata": {},
   "source": [
    "# 8. Bibliography"
   ]
  },
  {
   "cell_type": "markdown",
   "id": "7cd15080",
   "metadata": {},
   "source": [
    "https://mea.gov.in/bilateral-documents.htm?dtl/6291/Treaty\n",
    "\n",
    "https://www.britannica.com/place/Nepal/Economy\n",
    "\n",
    "Liu Kui’s “The Interactive Causality between Education and Economic Growth in China” \n",
    "\n",
    "Robert J. Barro “Education as a Determinant of Economic Growth”\n",
    "\n",
    "https://stats.stackexchange.com/questions/1580/regression-coefficients-that-flip-sign-after-including-other-predictors \n",
    "\n",
    "https://www.imf.org\n"
   ]
  }
 ],
 "metadata": {
  "kernelspec": {
   "display_name": "Python 3 (ipykernel)",
   "language": "python",
   "name": "python3"
  },
  "language_info": {
   "codemirror_mode": {
    "name": "ipython",
    "version": 3
   },
   "file_extension": ".py",
   "mimetype": "text/x-python",
   "name": "python",
   "nbconvert_exporter": "python",
   "pygments_lexer": "ipython3",
   "version": "3.9.7"
  }
 },
 "nbformat": 4,
 "nbformat_minor": 5
}
